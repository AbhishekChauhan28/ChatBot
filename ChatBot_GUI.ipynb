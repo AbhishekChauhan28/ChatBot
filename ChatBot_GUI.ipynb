{
 "cells": [
  {
   "cell_type": "code",
   "execution_count": 1,
   "id": "880bc6de-022e-47ea-8921-e63083511097",
   "metadata": {},
   "outputs": [],
   "source": [
    "import nltk\n",
    "from nltk.stem import WordNetLemmatizer\n",
    "lemmatizer = WordNetLemmatizer()\n",
    "import pickle\n",
    "import numpy as np\n",
    "from tensorflow.keras.models import load_model\n",
    "model = load_model('Model/chatbot_model.h5')\n",
    "import json\n",
    "import random\n",
    "intents = json.loads(open('Dataset/intents.json').read())\n",
    "words = pickle.load(open('Dataset/words.pkl', 'rb'))\n",
    "classes = pickle.load(open('Dataset/classes.pkl', 'rb'))"
   ]
  },
  {
   "cell_type": "markdown",
   "id": "3087cc30-7efd-4445-ad5e-6d86f6bb0a7d",
   "metadata": {},
   "source": [
    "#### To predict the class, we will need to provide input in the same way as we did while training. So we will create some functions that will perform text preprocessing and then predict the class."
   ]
  },
  {
   "cell_type": "code",
   "execution_count": 2,
   "id": "6663f06b-8acb-4090-af21-c1d598384614",
   "metadata": {},
   "outputs": [],
   "source": [
    "def clean_up_sentence(sentence):\n",
    "    \n",
    "    # tokenize the pattern - split words into array\n",
    "    sentence_words = nltk.word_tokenize(sentence)\n",
    "    \n",
    "    # stem each word - create short form for word\n",
    "    sentence_words = [lemmatizer.lemmatize(word.lower()) for word in sentence_words]\n",
    "    return sentence_words\n",
    "\n",
    "def bow(sentence, words, show_details = True):\n",
    "    \n",
    "    # tokenize the pattern\n",
    "    sentence_words = clean_up_sentence(sentence)\n",
    "    \n",
    "    # bag of words - matrix of N words, vocabulary matrix\n",
    "    bag = [0] * len(words)\n",
    "    for s in sentence_words:\n",
    "        for i,w in enumerate(words):\n",
    "            if w == s:\n",
    "                # assign 1 if current word is in the vocabulary position\n",
    "                bag[i] = 1\n",
    "                if show_details:\n",
    "                    print(\"found in bag: %s\" %w)\n",
    "    return(np.array(bag))\n",
    "\n",
    "def predict_class(sentence, model):\n",
    "    \n",
    "    # filter out predictions below a threshold\n",
    "    p = bow(sentence, words, show_details = False)\n",
    "    res = model.predict(np.array([p]))[0]\n",
    "    ERROR_THRESHOLD = 0.25\n",
    "    results = [[i,r] for i, r in enumerate(res) if r > ERROR_THRESHOLD]\n",
    "    \n",
    "    # sort by strength of probability\n",
    "    results.sort(key = lambda x: x[1], reverse = True)\n",
    "    return_list = []\n",
    "    for r in results:\n",
    "        return_list.append({\"intent\": classes[r[0]], \"probability\": str(r[1])})\n",
    "    return return_list"
   ]
  },
  {
   "cell_type": "markdown",
   "id": "d817d81f-0c6d-4cde-964b-bde317ee6b9b",
   "metadata": {},
   "source": [
    "#### After predicting the class, we will get a random response from the list of intents."
   ]
  },
  {
   "cell_type": "code",
   "execution_count": 3,
   "id": "d7251709-f919-4c73-846a-0f7ab88b8a8d",
   "metadata": {},
   "outputs": [],
   "source": [
    "def getResponse(ints, intents_json):\n",
    "    \n",
    "    tag = ints[0]['intent']\n",
    "    list_of_intents = intents_json['intents']\n",
    "    \n",
    "    for i in list_of_intents:\n",
    "        if(i['tag'] == tag):\n",
    "            \n",
    "            result = random.choice(i['responses'])\n",
    "            break\n",
    "            \n",
    "    return result\n",
    "\n",
    "def chatbot_response(text):\n",
    "    \n",
    "    ints = predict_class(text, model)\n",
    "    res = getResponse(ints, intents)\n",
    "    return res"
   ]
  },
  {
   "cell_type": "markdown",
   "id": "d8f2fc03-1986-4b53-ae83-83885e85ebb2",
   "metadata": {},
   "source": [
    "## <-- Creating A GUI -->"
   ]
  },
  {
   "cell_type": "code",
   "execution_count": 4,
   "id": "f9aa890a-df05-4b86-8c3f-4c2dcffe4271",
   "metadata": {},
   "outputs": [],
   "source": [
    "import tkinter\n",
    "from tkinter import *\n",
    "\n",
    "def send():\n",
    "    msg = EntryBox.get(\"1.0\", 'end-1c').strip()\n",
    "    EntryBox.delete(\"0.0\", END)\n",
    "    \n",
    "    if msg != ' ':\n",
    "        Chatlog.config(state = NORMAL)\n",
    "        Chatlog.insert(END, \"You: \" + msg + '\\n\\n')\n",
    "        Chatlog.config(foreground = \"#442265\", font = (\"Verdana\", 12))\n",
    "        \n",
    "        res = chatbot_response(msg)\n",
    "        Chatlog.insert(END, \"Bot: \" + res + '\\n\\n')\n",
    "        \n",
    "        Chatlog.config(state = DISABLED)\n",
    "        Chatlog.yview(END)\n",
    "        \n",
    "base = Tk()\n",
    "base.title(\"Smart Chat Bot\")\n",
    "base.geometry('400x500')\n",
    "base.resizable(width = False, height = False)\n",
    "\n",
    "# Create Chat window\n",
    "Chatlog = Text(base, bd = 0, bg = \"white\", height = \"8\", width = \"50\", font = \"Arial\",)\n",
    "\n",
    "Chatlog.config(state = DISABLED)\n",
    "\n",
    "# Bind scrollbar to Chat window\n",
    "scrollbar = Scrollbar(base, command = Chatlog.yview, cursor = \"heart\")\n",
    "Chatlog['yscrollcommand'] = scrollbar.set\n",
    "\n",
    "# Create Button to send message\n",
    "SendButton = Button(base, font = (\"Verdana\", 12, 'bold'), text = \"Send\", width = \"12\",\n",
    "                    height = 5, bd = 0, bg = \"#32de97\", activebackground = \"#3c9d9b\",\n",
    "                    fg = '#ffffff', command = send )\n",
    "\n",
    "#Create the box to enter message\n",
    "EntryBox = Text(base, bd = 0, bg = \"white\",width = \"29\", height = \"5\", font = \"Arial\")\n",
    "\n",
    "#EntryBox.bind(\"<Return>\", send)\n",
    "\n",
    "#Place all components on the screen\n",
    "scrollbar.place(x = 376,y = 6, height = 386)\n",
    "Chatlog.place(x = 6,y = 6, height = 386, width = 370)\n",
    "EntryBox.place(x = 128, y = 401, height = 90, width = 265)\n",
    "SendButton.place(x = 6, y = 401, height = 90)\n",
    "\n",
    "base.mainloop()"
   ]
  },
  {
   "cell_type": "code",
   "execution_count": 6,
   "id": "9e14eddc-85c6-453d-bf0a-8ace0c4a952e",
   "metadata": {},
   "outputs": [
    {
     "name": "stderr",
     "output_type": "stream",
     "text": [
      "[nltk_data] Downloading package punkt to /home/abhishek/nltk_data...\n",
      "[nltk_data]   Unzipping tokenizers/punkt.zip.\n"
     ]
    },
    {
     "data": {
      "text/plain": [
       "True"
      ]
     },
     "execution_count": 6,
     "metadata": {},
     "output_type": "execute_result"
    }
   ],
   "source": [
    "nltk.download('punkt')"
   ]
  },
  {
   "cell_type": "code",
   "execution_count": 11,
   "id": "a6082df2-603f-4dba-87f3-23fdc1867ab1",
   "metadata": {},
   "outputs": [
    {
     "name": "stderr",
     "output_type": "stream",
     "text": [
      "[nltk_data] Downloading package wordnet to /home/abhishek/nltk_data...\n",
      "[nltk_data]   Unzipping corpora/wordnet.zip.\n"
     ]
    },
    {
     "data": {
      "text/plain": [
       "True"
      ]
     },
     "execution_count": 11,
     "metadata": {},
     "output_type": "execute_result"
    }
   ],
   "source": [
    "nltk.download('wordnet')"
   ]
  },
  {
   "cell_type": "code",
   "execution_count": null,
   "id": "9704bac9-66b3-40ec-9ace-261e403adf70",
   "metadata": {},
   "outputs": [],
   "source": []
  }
 ],
 "metadata": {
  "kernelspec": {
   "display_name": "Python 3",
   "language": "python",
   "name": "python3"
  },
  "language_info": {
   "codemirror_mode": {
    "name": "ipython",
    "version": 3
   },
   "file_extension": ".py",
   "mimetype": "text/x-python",
   "name": "python",
   "nbconvert_exporter": "python",
   "pygments_lexer": "ipython3",
   "version": "3.8.10"
  }
 },
 "nbformat": 4,
 "nbformat_minor": 5
}
